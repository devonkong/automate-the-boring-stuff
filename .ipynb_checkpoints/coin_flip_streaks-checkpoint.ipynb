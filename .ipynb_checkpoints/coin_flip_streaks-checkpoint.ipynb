{
 "cells": [
  {
   "cell_type": "markdown",
   "metadata": {},
   "source": [
    "# Coin Flip Streaks\n",
    "This program runs an experiment where a coin is flipped 100 times, recording the resulting heads or tails.\\\n",
    "Streaks of six heads or tails occuring in a row are recorded. The experiment is repeated 1000 times.\\\n",
    "Mathematically, the probability of a streak is 1.56%."
   ]
  },
  {
   "cell_type": "code",
   "execution_count": 1,
   "metadata": {},
   "outputs": [],
   "source": [
    "# Import required modules and set up project\n",
    "import random, re, numpy as np\n",
    "\n",
    "streak_heads = r'HHHHHH'\n",
    "streak_tails = r'TTTTTT'\n",
    "probability = 0.5**6 * 100"
   ]
  },
  {
   "cell_type": "code",
   "execution_count": 2,
   "metadata": {},
   "outputs": [
    {
     "name": "stdout",
     "output_type": "stream",
     "text": [
      "1508 streaks were observed across 1000 experiments.\n"
     ]
    }
   ],
   "source": [
    "# Run the experiment and record observations.\n",
    "streak_counter = []\n",
    "\n",
    "for experiment in range(1000):\n",
    "    # Records occurences of heads or tails in a string.\n",
    "    observations = ''\n",
    "    for coin_flip in range(100):\n",
    "        if random.randint(0, 1) == 0:\n",
    "            observations += 'H'\n",
    "        else:\n",
    "            observations += 'T'\n",
    "    \n",
    "    # Checks for streaks of 6 heads or tails and adds to the counter.\n",
    "    streak_counter.append(len(re.findall(streak_heads, observations)) + len(re.findall(streak_tails, observations)))\n",
    "\n",
    "# Describe observations.\n",
    "np_streak_counter = np.array(streak_counter)\n",
    "print(f'{sum(np_streak_counter)} streaks were observed across 1000 experiments.')"
   ]
  },
  {
   "cell_type": "code",
   "execution_count": 3,
   "metadata": {},
   "outputs": [
    {
     "name": "stdout",
     "output_type": "stream",
     "text": [
      "From the results obtained, the probability of observing 6 heads or tails in a row is 1.51%.\n",
      "There is a 3.49% deviation from the mathematical calculation of 1.56%.\n"
     ]
    }
   ],
   "source": [
    "# Make calculations from observations and compare.\n",
    "mean = np.mean(np_streak_counter)\n",
    "\n",
    "print(f'From the results obtained, the probability of observing 6 heads or tails in a row is {mean:.2f}%.')\n",
    "print(f'There is a {abs((mean - probability) / probability * 100):.2f}% deviation from the mathematical calculation of {probability:.2f}%.')\n"
   ]
  },
  {
   "cell_type": "markdown",
   "metadata": {},
   "source": [
    "## Conclusion\n",
    "In this project, I utilised for loops and conditional statements to record the coin flips in the `observations` string.\\\n",
    "Using regular expressions, I counted and recorded the number of streaks observed and stored the results in a list.\\\n",
    "Converting the list to a numpy array allowed me to quickly calculate the mean across all 1000 experiments and compare my observations with the mathematical calculation."
   ]
  }
 ],
 "metadata": {
  "kernelspec": {
   "display_name": "Python 3",
   "language": "python",
   "name": "python3"
  },
  "language_info": {
   "codemirror_mode": {
    "name": "ipython",
    "version": 3
   },
   "file_extension": ".py",
   "mimetype": "text/x-python",
   "name": "python",
   "nbconvert_exporter": "python",
   "pygments_lexer": "ipython3",
   "version": "3.7.7"
  }
 },
 "nbformat": 4,
 "nbformat_minor": 4
}
